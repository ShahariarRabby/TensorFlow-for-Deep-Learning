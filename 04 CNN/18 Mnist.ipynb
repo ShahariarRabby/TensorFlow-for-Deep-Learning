{
 "cells": [
  {
   "cell_type": "code",
   "execution_count": 1,
   "metadata": {
    "collapsed": true
   },
   "outputs": [],
   "source": [
    "import tensorflow as tf"
   ]
  },
  {
   "cell_type": "code",
   "execution_count": 2,
   "metadata": {
    "collapsed": true
   },
   "outputs": [],
   "source": [
    "from tensorflow.examples.tutorials.mnist import input_data"
   ]
  },
  {
   "cell_type": "code",
   "execution_count": 3,
   "metadata": {},
   "outputs": [
    {
     "name": "stdout",
     "output_type": "stream",
     "text": [
      "Extracting Mnist_data/train-images-idx3-ubyte.gz\n",
      "Extracting Mnist_data/train-labels-idx1-ubyte.gz\n",
      "Extracting Mnist_data/t10k-images-idx3-ubyte.gz\n",
      "Extracting Mnist_data/t10k-labels-idx1-ubyte.gz\n"
     ]
    }
   ],
   "source": [
    "mnist = input_data.read_data_sets('Mnist_data/',one_hot=True)"
   ]
  },
  {
   "cell_type": "code",
   "execution_count": 4,
   "metadata": {
    "collapsed": true
   },
   "outputs": [],
   "source": [
    "def init_weights(shape):\n",
    "    init_random_dist = tf.truncated_normal(shape=shape, stddev=0.1)\n",
    "    return tf.Variable(init_random_dist)"
   ]
  },
  {
   "cell_type": "code",
   "execution_count": 5,
   "metadata": {
    "collapsed": true
   },
   "outputs": [],
   "source": [
    "def init_bias(shape):\n",
    "    init_bias_vals = tf.constant(0.1, shape=shape)\n",
    "    return tf.Variable(init_bias_vals)"
   ]
  },
  {
   "cell_type": "code",
   "execution_count": 6,
   "metadata": {
    "collapsed": true
   },
   "outputs": [],
   "source": [
    "def conv2d(x, W):\n",
    "    return tf.nn.conv2d(x,W,strides=[1,1,1,1],padding='SAME')"
   ]
  },
  {
   "cell_type": "code",
   "execution_count": 7,
   "metadata": {
    "collapsed": true
   },
   "outputs": [],
   "source": [
    "def maxpool(x):\n",
    "    return tf.nn.max_pool(x, ksize=[1,2,2,1],strides=[1,2,2,1],padding='SAME')"
   ]
  },
  {
   "cell_type": "code",
   "execution_count": 8,
   "metadata": {
    "collapsed": true
   },
   "outputs": [],
   "source": [
    "def convolutional_layer(input_x, shape):\n",
    "    W = init_weights(shape)\n",
    "    b = init_bias([shape[3]])\n",
    "    return tf.nn.relu(conv2d(input_x,W)+b)"
   ]
  },
  {
   "cell_type": "code",
   "execution_count": 9,
   "metadata": {
    "collapsed": true
   },
   "outputs": [],
   "source": [
    "def normal_full_layer(input_layer, size):\n",
    "    input_size = int(input_layer.get_shape()[1])\n",
    "    W = init_weights([input_size, size])\n",
    "    b = init_bias([size])\n",
    "    return tf.matmul(input_layer,W) + b"
   ]
  },
  {
   "cell_type": "code",
   "execution_count": 10,
   "metadata": {
    "collapsed": true
   },
   "outputs": [],
   "source": [
    "x = tf.placeholder(tf.float32, shape=[None, 784])\n",
    "y_true = tf.placeholder(tf.float32, shape=[None, 10])"
   ]
  },
  {
   "cell_type": "code",
   "execution_count": 11,
   "metadata": {},
   "outputs": [],
   "source": [
    "x_image = tf.reshape(x,[-1,28,28,1])"
   ]
  },
  {
   "cell_type": "code",
   "execution_count": 12,
   "metadata": {},
   "outputs": [],
   "source": [
    "convo_1 = convolutional_layer(x_image,shape=[5,5,1,32])\n",
    "convo_2 = convolutional_layer(convo_1,shape=[5,5,32,32])\n",
    "conv_1_pool = maxpool(convo_2)"
   ]
  },
  {
   "cell_type": "code",
   "execution_count": 13,
   "metadata": {},
   "outputs": [],
   "source": [
    "convo_3 = convolutional_layer(conv_1_pool,shape=[5,5,32,64])\n",
    "convo_4 = convolutional_layer(convo_3,shape=[5,5,64,64])\n",
    "conv_2_pool = maxpool(convo_4)"
   ]
  },
  {
   "cell_type": "code",
   "execution_count": 14,
   "metadata": {
    "collapsed": true
   },
   "outputs": [],
   "source": [
    "conv_2_flat = tf.reshape(conv_2_pool, [-1,7*7*64])"
   ]
  },
  {
   "cell_type": "code",
   "execution_count": 16,
   "metadata": {},
   "outputs": [],
   "source": [
    "fully_layer_1 = tf.nn.relu(normal_full_layer(conv_2_flat,1024))"
   ]
  },
  {
   "cell_type": "code",
   "execution_count": 17,
   "metadata": {
    "collapsed": true
   },
   "outputs": [],
   "source": [
    "hold_prob = tf.placeholder(tf.float32)\n",
    "full_one_droupout = tf.nn.dropout(fully_layer_1,keep_prob=hold_prob)"
   ]
  },
  {
   "cell_type": "code",
   "execution_count": 18,
   "metadata": {
    "collapsed": true
   },
   "outputs": [],
   "source": [
    "y_pred = normal_full_layer(full_one_droupout,10)"
   ]
  },
  {
   "cell_type": "code",
   "execution_count": 19,
   "metadata": {
    "collapsed": true
   },
   "outputs": [],
   "source": [
    "cross_entropy = tf.reduce_mean(tf.nn.softmax_cross_entropy_with_logits(labels=y_true, logits=y_pred))"
   ]
  },
  {
   "cell_type": "code",
   "execution_count": 20,
   "metadata": {
    "collapsed": true
   },
   "outputs": [],
   "source": [
    "optimizer = tf.train.AdamOptimizer(learning_rate=0.001)\n",
    "train = optimizer.minimize(cross_entropy)"
   ]
  },
  {
   "cell_type": "code",
   "execution_count": 21,
   "metadata": {
    "collapsed": true
   },
   "outputs": [],
   "source": [
    "init = tf.global_variables_initializer()"
   ]
  },
  {
   "cell_type": "code",
   "execution_count": 25,
   "metadata": {},
   "outputs": [
    {
     "name": "stdout",
     "output_type": "stream",
     "text": [
      "step 0\n",
      "Accuracy: 0.18\n",
      "step 100\n",
      "Accuracy: 0.92\n",
      "step 200\n",
      "Accuracy: 0.98\n",
      "step 300\n",
      "Accuracy: 1.0\n",
      "step 400\n",
      "Accuracy: 0.94\n",
      "step 500\n",
      "Accuracy: 0.98\n",
      "step 600\n",
      "Accuracy: 0.98\n",
      "step 700\n",
      "Accuracy: 0.96\n",
      "step 800\n",
      "Accuracy: 1.0\n",
      "step 900\n",
      "Accuracy: 1.0\n",
      "step 1000\n",
      "Accuracy: 0.98\n",
      "step 1100\n",
      "Accuracy: 0.98\n",
      "step 1200\n",
      "Accuracy: 1.0\n",
      "step 1300\n",
      "Accuracy: 1.0\n",
      "step 1400\n",
      "Accuracy: 0.96\n",
      "step 1500\n",
      "Accuracy: 0.98\n",
      "step 1600\n",
      "Accuracy: 1.0\n",
      "step 1700\n",
      "Accuracy: 1.0\n",
      "step 1800\n",
      "Accuracy: 1.0\n",
      "step 1900\n",
      "Accuracy: 1.0\n",
      "step 2000\n",
      "Accuracy: 0.98\n",
      "step 2100\n",
      "Accuracy: 0.98\n",
      "step 2200\n",
      "Accuracy: 1.0\n",
      "step 2300\n",
      "Accuracy: 1.0\n",
      "step 2400\n",
      "Accuracy: 0.98\n",
      "step 2500\n",
      "Accuracy: 0.98\n",
      "step 2600\n",
      "Accuracy: 1.0\n",
      "step 2700\n",
      "Accuracy: 0.98\n",
      "step 2800\n",
      "Accuracy: 0.98\n",
      "step 2900\n",
      "Accuracy: 0.94\n",
      "step 3000\n",
      "Accuracy: 1.0\n",
      "step 3100\n",
      "Accuracy: 1.0\n",
      "step 3200\n",
      "Accuracy: 1.0\n",
      "step 3300\n",
      "Accuracy: 1.0\n",
      "step 3400\n",
      "Accuracy: 1.0\n",
      "step 3500\n",
      "Accuracy: 1.0\n",
      "step 3600\n",
      "Accuracy: 0.98\n",
      "step 3700\n",
      "Accuracy: 1.0\n",
      "step 3800\n",
      "Accuracy: 1.0\n",
      "step 3900\n",
      "Accuracy: 1.0\n",
      "step 4000\n",
      "Accuracy: 0.96\n",
      "step 4100\n",
      "Accuracy: 0.96\n",
      "step 4200\n",
      "Accuracy: 1.0\n",
      "step 4300\n",
      "Accuracy: 0.98\n",
      "step 4400\n",
      "Accuracy: 1.0\n",
      "step 4500\n",
      "Accuracy: 0.94\n",
      "step 4600\n",
      "Accuracy: 0.98\n",
      "step 4700\n",
      "Accuracy: 1.0\n",
      "step 4800\n",
      "Accuracy: 1.0\n",
      "step 4900\n",
      "Accuracy: 0.98\n"
     ]
    }
   ],
   "source": [
    "steps = 5000\n",
    "\n",
    "with tf.Session() as sess:\n",
    "    sess.run(init)\n",
    "    \n",
    "    for i in range(steps):\n",
    "        batch_x , batch_y = mnist.train.next_batch(50)\n",
    "        \n",
    "        sess.run(train, feed_dict={x:batch_x, y_true:batch_y, hold_prob:0.5})\n",
    "        \n",
    "        if i%100 == 0:\n",
    "            print('step',i)\n",
    "            \n",
    "            match = tf.equal(tf.argmax(y_pred,1),tf.argmax(y_true,1))\n",
    "            \n",
    "            acc = tf.reduce_mean(tf.cast(match,tf.float32))\n",
    "            \n",
    "            test_x, test_y = mnist.train.next_batch(50)\n",
    "            score = sess.run(acc, feed_dict={x:test_x, y_true:test_y,hold_prob:1.0})\n",
    "            print('Accuracy:',score)\n",
    "            "
   ]
  }
 ],
 "metadata": {
  "kernelspec": {
   "display_name": "Python 3",
   "language": "python",
   "name": "python3"
  },
  "language_info": {
   "codemirror_mode": {
    "name": "ipython",
    "version": 3
   },
   "file_extension": ".py",
   "mimetype": "text/x-python",
   "name": "python",
   "nbconvert_exporter": "python",
   "pygments_lexer": "ipython3",
   "version": "3.6.1"
  }
 },
 "nbformat": 4,
 "nbformat_minor": 2
}
