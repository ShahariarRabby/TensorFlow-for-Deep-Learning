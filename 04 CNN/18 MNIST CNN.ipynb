{
 "cells": [
  {
   "cell_type": "code",
   "execution_count": 1,
   "metadata": {
    "collapsed": true
   },
   "outputs": [],
   "source": [
    "import tensorflow as tf\n",
    "import matplotlib.pyplot as plt\n",
    "%matplotlib inline"
   ]
  },
  {
   "cell_type": "code",
   "execution_count": 2,
   "metadata": {
    "collapsed": true
   },
   "outputs": [],
   "source": [
    "from tensorflow.examples.tutorials.mnist import input_data"
   ]
  },
  {
   "cell_type": "code",
   "execution_count": 3,
   "metadata": {},
   "outputs": [
    {
     "name": "stdout",
     "output_type": "stream",
     "text": [
      "Extracting Mnist_data/train-images-idx3-ubyte.gz\n",
      "Extracting Mnist_data/train-labels-idx1-ubyte.gz\n",
      "Extracting Mnist_data/t10k-images-idx3-ubyte.gz\n",
      "Extracting Mnist_data/t10k-labels-idx1-ubyte.gz\n"
     ]
    }
   ],
   "source": [
    "mnist = input_data.read_data_sets('Mnist_data/', one_hot=True)"
   ]
  },
  {
   "cell_type": "code",
   "execution_count": null,
   "metadata": {
    "collapsed": true
   },
   "outputs": [],
   "source": []
  },
  {
   "cell_type": "markdown",
   "metadata": {},
   "source": [
    "## CNN Steps\n",
    "1. Helper\n",
    "2. INIT Weight\n",
    "3. INIT Bias\n",
    "4. CONV 2D\n",
    "5. Pooling"
   ]
  },
  {
   "cell_type": "code",
   "execution_count": 4,
   "metadata": {
    "collapsed": true
   },
   "outputs": [],
   "source": [
    "# Helper\n",
    "\n",
    "def init_weight(shape):\n",
    "    init_random_weight = tf.truncated_normal(shape, stddev=0.1)\n",
    "    return tf.Variable(init_random_weight)\n",
    "\n",
    "def init_bais(shape):\n",
    "    init_random_bais = tf.constant(0.1, shape=shape)\n",
    "    return tf.Variable(init_random_bais)"
   ]
  },
  {
   "cell_type": "code",
   "execution_count": 5,
   "metadata": {
    "collapsed": true
   },
   "outputs": [],
   "source": [
    "# CONV 2D\n",
    "\n",
    "def conv2d(x, W):\n",
    "    # x --> [batch, H, W, Channels]\n",
    "    # W --> [FIlter H, filter W, Channel IN, Channel Out]\n",
    "    \n",
    "    return tf.nn.conv2d(input=x, filter=W, strides=[1,1,1,1], padding='SAME')"
   ]
  },
  {
   "cell_type": "code",
   "execution_count": 6,
   "metadata": {
    "collapsed": true
   },
   "outputs": [],
   "source": [
    "# Polling\n",
    "\n",
    "def max_pool(x):\n",
    "    # x --> same as conv 2d\n",
    "    return tf.nn.max_pool(x, ksize=[1,2,2,1],strides=[1,2,2,1],padding='SAME')"
   ]
  },
  {
   "cell_type": "code",
   "execution_count": 7,
   "metadata": {
    "collapsed": true
   },
   "outputs": [],
   "source": [
    "# CONV Layer\n",
    "\n",
    "def conv_layer(input_x, shape):\n",
    "    W = init_weight(shape)\n",
    "    b = init_bais([shape[3]])\n",
    "    \n",
    "    return tf.nn.relu(conv2d(input_x, W) + b)"
   ]
  },
  {
   "cell_type": "code",
   "execution_count": 8,
   "metadata": {
    "collapsed": true
   },
   "outputs": [],
   "source": [
    "# Fully Conected\n",
    "def normal_fully_connected(input_layer, size):\n",
    "    input_size = int(input_layer.get_shape()[1])\n",
    "    W = init_weight([input_size, size])\n",
    "    b = init_bais([size])\n",
    "    return tf.matmul(input_layer, W) + b"
   ]
  },
  {
   "cell_type": "markdown",
   "metadata": {},
   "source": [
    "## Building CNN "
   ]
  },
  {
   "cell_type": "code",
   "execution_count": 9,
   "metadata": {
    "collapsed": true
   },
   "outputs": [],
   "source": [
    "# Placeholder\n",
    "x = tf.placeholder(tf.float32,shape=[None,784])\n",
    "y_true = tf.placeholder(tf.float32, shape=[None,10])"
   ]
  },
  {
   "cell_type": "code",
   "execution_count": 10,
   "metadata": {
    "collapsed": true
   },
   "outputs": [],
   "source": [
    "# Layers\n",
    "x_image = tf.reshape(x, shape=[-1, 28, 28, 1])"
   ]
  },
  {
   "cell_type": "code",
   "execution_count": 11,
   "metadata": {
    "collapsed": true
   },
   "outputs": [],
   "source": [
    "convo_1 = conv_layer(x_image,shape=[6,6,1,32])\n",
    "convo_1_pooling = max_pool(convo_1)\n",
    "\n",
    "convo_2 = conv_layer(convo_1_pooling,shape=[6,6,32,64])\n",
    "convo_2_pooling = max_pool(convo_2)\n",
    "\n",
    "convo_2_flat = tf.reshape(convo_2_pooling,[-1,7*7*64])\n",
    "full_layer_one = tf.nn.relu(normal_fully_connected(convo_2_flat,1024))"
   ]
  },
  {
   "cell_type": "code",
   "execution_count": 12,
   "metadata": {
    "collapsed": true
   },
   "outputs": [],
   "source": [
    "# NOTE THE PLACEHOLDER HERE!\n",
    "hold_prob = tf.placeholder(tf.float32)\n",
    "full_one_dropout = tf.nn.dropout(full_layer_one,keep_prob=hold_prob)"
   ]
  },
  {
   "cell_type": "code",
   "execution_count": 13,
   "metadata": {
    "collapsed": true
   },
   "outputs": [],
   "source": [
    "y_pred = normal_fully_connected(full_one_dropout, 10)"
   ]
  },
  {
   "cell_type": "code",
   "execution_count": 14,
   "metadata": {
    "collapsed": true
   },
   "outputs": [],
   "source": [
    "cross_entropy = tf.reduce_mean(tf.nn.softmax_cross_entropy_with_logits(labels=y_true, logits=y_pred))"
   ]
  },
  {
   "cell_type": "code",
   "execution_count": 15,
   "metadata": {
    "collapsed": true
   },
   "outputs": [],
   "source": [
    "# Optimizer\n",
    "optimizer = tf.train.AdamOptimizer()\n",
    "train = optimizer.minimize(cross_entropy)"
   ]
  },
  {
   "cell_type": "code",
   "execution_count": 16,
   "metadata": {
    "collapsed": true
   },
   "outputs": [],
   "source": [
    "init = tf.global_variables_initializer()"
   ]
  },
  {
   "cell_type": "code",
   "execution_count": 17,
   "metadata": {},
   "outputs": [
    {
     "name": "stdout",
     "output_type": "stream",
     "text": [
      "Currently on step 0\n",
      "Accuracy is:\n",
      "0.17\n",
      "\n",
      "\n",
      "Currently on step 10\n",
      "Accuracy is:\n",
      "0.6\n",
      "\n",
      "\n",
      "Currently on step 20\n",
      "Accuracy is:\n",
      "0.79\n",
      "\n",
      "\n",
      "Currently on step 30\n",
      "Accuracy is:\n",
      "0.91\n",
      "\n",
      "\n",
      "Currently on step 40\n",
      "Accuracy is:\n",
      "0.88\n",
      "\n",
      "\n",
      "Currently on step 50\n",
      "Accuracy is:\n",
      "0.97\n",
      "\n",
      "\n",
      "Currently on step 60\n",
      "Accuracy is:\n",
      "0.96\n",
      "\n",
      "\n",
      "Currently on step 70\n",
      "Accuracy is:\n",
      "0.95\n",
      "\n",
      "\n",
      "Currently on step 80\n",
      "Accuracy is:\n",
      "0.95\n",
      "\n",
      "\n",
      "Currently on step 90\n",
      "Accuracy is:\n",
      "0.91\n",
      "\n",
      "\n",
      "Currently on step 100\n",
      "Accuracy is:\n",
      "0.96\n",
      "\n",
      "\n",
      "Currently on step 110\n",
      "Accuracy is:\n",
      "1.0\n",
      "\n",
      "\n",
      "Currently on step 120\n",
      "Accuracy is:\n",
      "0.96\n",
      "\n",
      "\n",
      "Currently on step 130\n",
      "Accuracy is:\n",
      "0.99\n",
      "\n",
      "\n",
      "Currently on step 140\n",
      "Accuracy is:\n",
      "0.98\n",
      "\n",
      "\n",
      "Currently on step 150\n",
      "Accuracy is:\n",
      "0.92\n",
      "\n",
      "\n",
      "Currently on step 160\n",
      "Accuracy is:\n",
      "0.96\n",
      "\n",
      "\n",
      "Currently on step 170\n",
      "Accuracy is:\n",
      "0.96\n",
      "\n",
      "\n",
      "Currently on step 180\n",
      "Accuracy is:\n",
      "0.97\n",
      "\n",
      "\n",
      "Currently on step 190\n",
      "Accuracy is:\n",
      "0.97\n",
      "\n",
      "\n",
      "Currently on step 200\n",
      "Accuracy is:\n",
      "0.96\n",
      "\n",
      "\n",
      "Currently on step 210\n",
      "Accuracy is:\n",
      "0.96\n",
      "\n",
      "\n",
      "Currently on step 220\n",
      "Accuracy is:\n",
      "0.97\n",
      "\n",
      "\n",
      "Currently on step 230\n",
      "Accuracy is:\n",
      "0.97\n",
      "\n",
      "\n",
      "Currently on step 240\n",
      "Accuracy is:\n",
      "0.95\n",
      "\n",
      "\n",
      "Currently on step 250\n",
      "Accuracy is:\n",
      "0.97\n",
      "\n",
      "\n",
      "Currently on step 260\n",
      "Accuracy is:\n",
      "1.0\n",
      "\n",
      "\n",
      "Currently on step 270\n",
      "Accuracy is:\n",
      "0.96\n",
      "\n",
      "\n",
      "Currently on step 280\n",
      "Accuracy is:\n",
      "0.97\n",
      "\n",
      "\n",
      "Currently on step 290\n",
      "Accuracy is:\n",
      "0.98\n",
      "\n",
      "\n",
      "Currently on step 300\n",
      "Accuracy is:\n",
      "0.99\n",
      "\n",
      "\n",
      "Currently on step 310\n",
      "Accuracy is:\n",
      "0.97\n",
      "\n",
      "\n",
      "Currently on step 320\n",
      "Accuracy is:\n",
      "0.98\n",
      "\n",
      "\n",
      "Currently on step 330\n",
      "Accuracy is:\n",
      "0.99\n",
      "\n",
      "\n",
      "Currently on step 340\n",
      "Accuracy is:\n",
      "0.99\n",
      "\n",
      "\n",
      "Currently on step 350\n",
      "Accuracy is:\n",
      "0.97\n",
      "\n",
      "\n",
      "Currently on step 360\n",
      "Accuracy is:\n",
      "0.98\n",
      "\n",
      "\n",
      "Currently on step 370\n",
      "Accuracy is:\n",
      "0.95\n",
      "\n",
      "\n",
      "Currently on step 380\n",
      "Accuracy is:\n",
      "0.96\n",
      "\n",
      "\n",
      "Currently on step 390\n",
      "Accuracy is:\n",
      "1.0\n",
      "\n",
      "\n",
      "Currently on step 400\n",
      "Accuracy is:\n",
      "0.97\n",
      "\n",
      "\n",
      "Currently on step 410\n",
      "Accuracy is:\n",
      "0.94\n",
      "\n",
      "\n",
      "Currently on step 420\n",
      "Accuracy is:\n",
      "0.99\n",
      "\n",
      "\n",
      "Currently on step 430\n",
      "Accuracy is:\n",
      "0.96\n",
      "\n",
      "\n",
      "Currently on step 440\n",
      "Accuracy is:\n",
      "0.96\n",
      "\n",
      "\n",
      "Currently on step 450\n",
      "Accuracy is:\n",
      "0.99\n",
      "\n",
      "\n",
      "Currently on step 460\n",
      "Accuracy is:\n",
      "0.98\n",
      "\n",
      "\n",
      "Currently on step 470\n",
      "Accuracy is:\n",
      "0.98\n",
      "\n",
      "\n",
      "Currently on step 480\n",
      "Accuracy is:\n",
      "0.98\n",
      "\n",
      "\n",
      "Currently on step 490\n",
      "Accuracy is:\n",
      "0.99\n",
      "\n",
      "\n"
     ]
    }
   ],
   "source": [
    "steps = 500\n",
    "\n",
    "with tf.Session() as sess:\n",
    "    \n",
    "    sess.run(init)\n",
    "    \n",
    "    for i in range(steps):\n",
    "        \n",
    "        batch_x , batch_y = mnist.train.next_batch(100)\n",
    "        \n",
    "        sess.run(train,feed_dict={x:batch_x,y_true:batch_y,hold_prob:0.5})\n",
    "        \n",
    "        # PRINT OUT A MESSAGE EVERY 100 STEPS\n",
    "        if i%10 == 0:\n",
    "            \n",
    "            print('Currently on step {}'.format(i))\n",
    "            print('Accuracy is:')\n",
    "            # Test the Train Model\n",
    "            matches = tf.equal(tf.argmax(y_pred,1),tf.argmax(y_true,1))\n",
    "\n",
    "            acc = tf.reduce_mean(tf.cast(matches,tf.float32))\n",
    "            batch_x_test , batch_y_test = mnist.train.next_batch(100)\n",
    "            \n",
    "            print(sess.run(acc,feed_dict={x:batch_x_test,y_true:batch_y_test,hold_prob:1.0}))\n",
    "            print('\\n')"
   ]
  }
 ],
 "metadata": {
  "kernelspec": {
   "display_name": "Python 3",
   "language": "python",
   "name": "python3"
  },
  "language_info": {
   "codemirror_mode": {
    "name": "ipython",
    "version": 3
   },
   "file_extension": ".py",
   "mimetype": "text/x-python",
   "name": "python",
   "nbconvert_exporter": "python",
   "pygments_lexer": "ipython3",
   "version": "3.6.1"
  }
 },
 "nbformat": 4,
 "nbformat_minor": 2
}
